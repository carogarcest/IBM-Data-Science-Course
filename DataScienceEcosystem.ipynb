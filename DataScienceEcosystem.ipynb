{
 "cells": [
  {
   "cell_type": "markdown",
   "id": "397fda2c-a818-485c-b300-72acd1848f57",
   "metadata": {},
   "source": [
    "# Data Science Tools and Ecosystems"
   ]
  },
  {
   "cell_type": "markdown",
   "id": "9ff64211-07b1-4e90-aff8-7ab83a443240",
   "metadata": {},
   "source": [
    "## Author\n",
    "Carolina Garcés Tamez"
   ]
  },
  {
   "cell_type": "markdown",
   "id": "5da1814c-7376-4db1-bbf0-b5ecb0530ace",
   "metadata": {},
   "source": [
    "In this notebook, Data Science Tools and Ecosystem are summarized."
   ]
  },
  {
   "cell_type": "markdown",
   "id": "a32fb9b3-24c7-428e-a316-cc04f9b82d5f",
   "metadata": {},
   "source": [
    "**Exercise 10**\n",
    "\n",
    "Objectives:\n",
    "* List of popular languages data scientists use\n",
    "* List of commonly used libraries by data scientists\n",
    "* List of Data Science Tools\n",
    "* Example 1: Simple arithmetic expression\n",
    "* Example 2: Converting hours to minutes\n"
   ]
  },
  {
   "cell_type": "markdown",
   "id": "8bb07932-fb83-4d65-84ef-b1ffd7daaae3",
   "metadata": {},
   "source": [
    "**Exercise 4**\n",
    "\n",
    "Some of the popular languages that Data Scientists use are:\n",
    "1. Python\n",
    "2. R\n",
    "3. SQL\n",
    "4. C++\n",
    "5. Java"
   ]
  },
  {
   "cell_type": "markdown",
   "id": "6baec980-7fef-4aba-a26d-105dd0fd6671",
   "metadata": {},
   "source": [
    "**Exercise 5**\n",
    "\n",
    "Some of the commonly used libraries used by Data Scientists include:\n",
    "1. Pandas\n",
    "2. Matplotlib\n",
    "3. Scikit-learn\n",
    "4. Keras\n",
    "5. TensorFlow"
   ]
  },
  {
   "cell_type": "markdown",
   "id": "9b29e11d-cbe9-478c-83d0-3d08209868c7",
   "metadata": {},
   "source": [
    "**Exercise 6**\n",
    "\n",
    "|Data Science Tools|\n",
    "|----|\n",
    "|Jupyter Notebook|\n",
    "|RStudio|\n",
    "|Visual Studio|"
   ]
  },
  {
   "cell_type": "markdown",
   "id": "949002c4-3a92-42ab-b8f7-8cc51272bfee",
   "metadata": {},
   "source": [
    "**Exercise 7**\n",
    "### Below are a few examples of evaluating arithmetic expressions in python"
   ]
  },
  {
   "cell_type": "code",
   "execution_count": 7,
   "id": "8cb93faf-4c6b-4830-8066-81b0fecb0444",
   "metadata": {},
   "outputs": [
    {
     "data": {
      "text/plain": [
       "17"
      ]
     },
     "execution_count": 7,
     "metadata": {},
     "output_type": "execute_result"
    }
   ],
   "source": [
    "# Exercise 8\n",
    "# This is a simple arithmetic expression to multiply then add integers.\n",
    "(3*4)+5"
   ]
  },
  {
   "cell_type": "code",
   "execution_count": 11,
   "id": "3e55231a-ce97-4260-ab6a-5b52acc712e1",
   "metadata": {},
   "outputs": [
    {
     "name": "stdout",
     "output_type": "stream",
     "text": [
      "3.3333333333333335\n"
     ]
    }
   ],
   "source": [
    "# Exercise 9\n",
    "# This will convert 200 minutes to hours by diving by 60.\n",
    "minutes = 200\n",
    "hours = 200/60\n",
    "print(hours)"
   ]
  },
  {
   "cell_type": "code",
   "execution_count": null,
   "id": "7be3edfa-386e-40e1-a174-35b2446d79b4",
   "metadata": {},
   "outputs": [],
   "source": []
  }
 ],
 "metadata": {
  "kernelspec": {
   "display_name": "Python 3 (ipykernel)",
   "language": "python",
   "name": "python3"
  },
  "language_info": {
   "codemirror_mode": {
    "name": "ipython",
    "version": 3
   },
   "file_extension": ".py",
   "mimetype": "text/x-python",
   "name": "python",
   "nbconvert_exporter": "python",
   "pygments_lexer": "ipython3",
   "version": "3.11.8"
  }
 },
 "nbformat": 4,
 "nbformat_minor": 5
}
